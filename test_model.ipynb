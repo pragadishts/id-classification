{
 "cells": [
  {
   "cell_type": "code",
   "execution_count": 1,
   "metadata": {},
   "outputs": [],
   "source": [
    "from keras.models import load_model\n",
    "import cv2\n",
    "import numpy as np\n"
   ]
  },
  {
   "cell_type": "code",
   "execution_count": 2,
   "metadata": {},
   "outputs": [],
   "source": [
    "class_labels = [\"Aadhaar\", \"PAN\", \"Driving Licence\",\n",
    "                \"Voter ID\", \"Passport\"]\n"
   ]
  },
  {
   "cell_type": "code",
   "execution_count": 11,
   "metadata": {},
   "outputs": [],
   "source": [
    "model = load_model(\"classifier_model.h5\")\n",
    "\n",
    "\n",
    "def preprocess_image(image_path):\n",
    "    try:\n",
    "        img = cv2.imread(image_path)\n",
    "        img = cv2.resize(img, (224, 224))\n",
    "        img = img / 255.0\n",
    "        img = np.expand_dims(img, axis=0)  # Add an extra dimension for batch size\n",
    "        return img\n",
    "    except Exception as e:\n",
    "        print(str(e))\n"
   ]
  },
  {
   "cell_type": "code",
   "execution_count": 12,
   "metadata": {},
   "outputs": [
    {
     "name": "stdout",
     "output_type": "stream",
     "text": [
      "1/1 [==============================] - 0s 235ms/step\n",
      "Predicted Class: PAN\n"
     ]
    }
   ],
   "source": [
    "input_image_path = \"test_images/real.jpg\"\n",
    "\n",
    "input_image = preprocess_image(input_image_path)\n",
    "\n",
    "# Make predictions on the input image\n",
    "predictions = model.predict(input_image)\n",
    "predicted_class_index = np.argmax(predictions)\n",
    "predicted_class = class_labels[predicted_class_index]\n",
    "\n",
    "print(\"Predicted Class:\", predicted_class)\n"
   ]
  },
  {
   "cell_type": "code",
   "execution_count": null,
   "metadata": {},
   "outputs": [],
   "source": []
  }
 ],
 "metadata": {
  "kernelspec": {
   "display_name": "Python 3",
   "language": "python",
   "name": "python3"
  },
  "language_info": {
   "codemirror_mode": {
    "name": "ipython",
    "version": 3
   },
   "file_extension": ".py",
   "mimetype": "text/x-python",
   "name": "python",
   "nbconvert_exporter": "python",
   "pygments_lexer": "ipython3",
   "version": "3.10.7"
  },
  "orig_nbformat": 4,
  "vscode": {
   "interpreter": {
    "hash": "bbb56b06e5dfb7d58b7f1d3984d11dfd233c9d7f2f0bddeb3c6a1382b4897906"
   }
  }
 },
 "nbformat": 4,
 "nbformat_minor": 2
}
